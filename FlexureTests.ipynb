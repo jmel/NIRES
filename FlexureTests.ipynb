{
 "metadata": {
  "name": "FlexureTests"
 }, 
 "nbformat": 2, 
 "worksheets": [
  {
   "cells": [
    {
     "cell_type": "markdown", 
     "source": [
      "# Modeling the parameters for Flexure Correction", 
      "", 
      "1) you start out with a bunch of model parameters, p0", 
      "", 
      "2) the model, flexure_correction3(), returns a set of x,y offsets", 
      "", 
      "3) you compare those offsets with measured offsets, using res()", 
      "", 
      "4) you modify the model parameters so that the model-data is minimized", 
      "", 
      "p1 = leastsq(res,p0,args=(data,angs,err**(-2)),full_output=1)", 
      "", 
      "5) the new parameters, p1, become the new model"
     ]
    }, 
    {
     "cell_type": "code", 
     "collapsed": true, 
     "input": [
      "import numpy as np", 
      "from scipy.optimize import leastsq", 
      "import pyfits as pf", 
      "import glob", 
      "import matplotlib.pyplot as plt"
     ], 
     "language": "python", 
     "outputs": [], 
     "prompt_number": 132
    }, 
    {
     "cell_type": "code", 
     "collapsed": true, 
     "input": [
      "dg=np.pi/180.0"
     ], 
     "language": "python", 
     "outputs": [], 
     "prompt_number": 133
    }, 
    {
     "cell_type": "code", 
     "collapsed": true, 
     "input": [
      "def res(p,data,t,wt=None):", 
      "    '''Returns residuals to flexure model for fitting.'''", 
      "    mod = []", 
      "    for ii in range(len(t)):", 
      "        mod.append(flexure_correction3(t[ii],p))", 
      "    mod = -np.array(mod) # - because Fx is correction (x + Fx = 0)", 
      "    err = (data - mod).flatten()", 
      "    wterr=err", 
      "    if wt:", 
      "        wterr = err*(wt.flatten())", 
      "    return wterr", 
      "", 
      "    "
     ], 
     "language": "python", 
     "outputs": [], 
     "prompt_number": 205
    }, 
    {
     "cell_type": "code", 
     "collapsed": true, 
     "input": [
      "def flexure_correction3(angs,params):", 
      "    '''Returns flexure correction in pixels for a given Elevation, PA, and ", 
      "       vector of flexure ellipse parameters.'''", 
      "    El=angs[1]*dg", 
      "    PA=angs[0]*dg", 
      "    ", 
      "    k=params[0] # ratio of minor to major axes of flexure ellipse", 
      "    ph=params[1]*dg # phase of ellipse", 
      "    th=params[2]*dg # rotation of major axis w.r.t. y axis", 
      "    amp=params[3]*np.sin(El-90*dg) # semi-major axis length", 
      "    Yc=params[4]*(1-np.cos(El-90*dg)) # center of ellipse in Y", 
      "    Xc=params[5]*(1-np.cos(El-90*dg)) # center of ellipse in Y", 
      "    af = 1", 
      "", 
      "    Fy0=Yc+amp*np.cos(PA+th)*np.cos(ph)+ \\", 
      "        amp*k*np.sin(PA+th)*np.sin(ph)", 
      "    Fx0=Xc+amp*np.cos(PA+th)*np.sin(ph)- \\", 
      "\taf*amp*k*np.sin(PA+th)*np.cos(ph)", 
      "", 
      "    return [Fx0,Fy0]"
     ], 
     "language": "python", 
     "outputs": [], 
     "prompt_number": 206
    }, 
    {
     "cell_type": "code", 
     "collapsed": true, 
     "input": [
      "# TSPEC centroiding boxes", 
      "# bcen=[xcen,ycen]", 
      "# bsize=[xsize,ysize]", 
      "bsize=[20,122]", 
      "bcen=[[185,662],[704,798],[984,500],[1185,797],[1855,789]]"
     ], 
     "language": "python", 
     "outputs": [], 
     "prompt_number": 207
    }, 
    {
     "cell_type": "code", 
     "collapsed": false, 
     "input": [
      "len(bcen)"
     ], 
     "language": "python", 
     "outputs": [
      {
       "output_type": "pyout", 
       "prompt_number": 137, 
       "text": [
        "5"
       ]
      }
     ], 
     "prompt_number": 137
    }, 
    {
     "cell_type": "code", 
     "collapsed": true, 
     "input": [
      "def measure_centroids(img,bsize,bcen):", 
      "    '''Computes mean and average '''", 
      "    cms = []", 
      "    for i in range(len(bcen)):", 
      "        # define bottom left of box = bl", 
      "        # and upper right of box = ur ", 
      "        bl=[bcen[i][0]-bsize[0]/2,bcen[i][1]-bsize[1]/2]", 
      "        ur=[bcen[i][0]+bsize[0]/2,bcen[i][1]+bsize[1]/2]", 
      "        ", 
      "        #pull out subimage", 
      "        sub = img[bl[1]:ur[1], bl[0]:ur[0]]", 
      "        cms.append(cm(sub))", 
      "    return np.array(cms)", 
      "    "
     ], 
     "language": "python", 
     "outputs": [], 
     "prompt_number": 138
    }, 
    {
     "cell_type": "code", 
     "collapsed": true, 
     "input": [
      "def cm (im):", 
      "    '''Computes light-weighted center of slit box'''", 
      "    total = float(im.sum())", 
      "    y = np.arange(im.shape[0])", 
      "    x = np.arange(im.shape[1])", 
      "    xnum = (x*im.sum(0)).sum()", 
      "    xcm = xnum/total", 
      "    ynum = (y * im.sum(1)).sum()", 
      "    ycm = ynum/total", 
      "", 
      "    return [xcm, ycm]"
     ], 
     "language": "python", 
     "outputs": [], 
     "prompt_number": 154
    }, 
    {
     "cell_type": "code", 
     "collapsed": true, 
     "input": [
      "imdir='/Volumes/FreeAgentDrive/jmel/tspec/2009/night1/'", 
      "#imdir='/Users/jmel/tspec/2008/night1/raw/'"
     ], 
     "language": "python", 
     "outputs": [], 
     "prompt_number": 183
    }, 
    {
     "cell_type": "code", 
     "collapsed": true, 
     "input": [
      "files=glob.glob(imdir+'tspec00[3,4,5]?.fits')", 
      "#files=glob.glob(imdir+'spec00[5,6]?.fits')"
     ], 
     "language": "python", 
     "outputs": [], 
     "prompt_number": 184
    }, 
    {
     "cell_type": "code", 
     "collapsed": false, 
     "input": [
      "HA=[]", 
      "dec=[]", 
      "xcen=[]", 
      "ycen=[]", 
      "for file in files:", 
      "    imfile=pf.open(file)", 
      "    im=np.array(imfile[0].data)", 
      "    im.astype(float)", 
      "    cms=measure_centroids(im,bsize,bcen)", 
      "    HA.append(imfile[0].header['HA'])", 
      "    dec.append(imfile[0].header['DEC'])", 
      "    xcen.append(cms[np.arange(5), (0,0,0,0,0)])", 
      "    ycen.append(cms[np.arange(5), (1,1,1,1,1)])", 
      "  ", 
      "#    print imfile[0].header['EXPTIME'], imfile[0].header['HA'], imfile[0].header['DEC'],cms[0]"
     ], 
     "language": "python", 
     "outputs": [], 
     "prompt_number": 270
    }, 
    {
     "cell_type": "code", 
     "collapsed": true, 
     "input": [
      "def convertHA(hStr):", 
      "    sgn=1.", 
      "    if hStr[0]=='W':", 
      "        sgn=-1.", 
      "    hFlt=sgn*(float(hStr[1:3])+float(hStr[4:6])/60.+float(hStr[7:])/3600.)", 
      "    return hFlt"
     ], 
     "language": "python", 
     "outputs": [], 
     "prompt_number": 271
    }, 
    {
     "cell_type": "code", 
     "collapsed": true, 
     "input": [
      "def convertDec(hStr):", 
      "    sgn=1.", 
      "    if hStr[0]=='-':", 
      "        sgn=-1.", 
      "    hFlt=sgn*(float(hStr[1:3])+float(hStr[4:6])/60.+float(hStr[7:])/3600.)", 
      "    return hFlt"
     ], 
     "language": "python", 
     "outputs": [], 
     "prompt_number": 272
    }, 
    {
     "cell_type": "code", 
     "collapsed": false, 
     "input": [
      "convertHA('W01:24:29.3')"
     ], 
     "language": "python", 
     "outputs": [
      {
       "output_type": "pyout", 
       "prompt_number": 273, 
       "text": [
        "-1.4081388888888888"
       ]
      }
     ], 
     "prompt_number": 273
    }, 
    {
     "cell_type": "code", 
     "collapsed": true, 
     "input": [
      "decDeg=np.array([convertDec(h) for h in dec])", 
      "HADeg=np.array([convertHA(h) for h in HA])"
     ], 
     "language": "python", 
     "outputs": [], 
     "prompt_number": 274
    }, 
    {
     "cell_type": "code", 
     "collapsed": true, 
     "input": [
      "pltX=HADeg"
     ], 
     "language": "python", 
     "outputs": [], 
     "prompt_number": 275
    }, 
    {
     "cell_type": "code", 
     "collapsed": false, 
     "input": [
      "xcen=np.array(xcen)", 
      "ycen=np.array(ycen)", 
      "print xcen.shape, ycen.shape, pltX.shape"
     ], 
     "language": "python", 
     "outputs": [
      {
       "output_type": "stream", 
       "stream": "stdout", 
       "text": [
        "(30, 5) (30, 5) (30,)"
       ]
      }
     ], 
     "prompt_number": 302
    }, 
    {
     "cell_type": "code", 
     "collapsed": false, 
     "input": [
      "def aveCen(cen):", 
      "    sz=cen.shape", 
      "    tempArr=np.array([0.]*sz[0])", 
      "    for i in range(sz[0]):", 
      "#        tempArr[i]=float(float(sum(cen[i,:]))/float(sz[1]))", 
      "        tempArr[i]=np.median(cen[i,:])", 
      "    return tempArr"
     ], 
     "language": "python", 
     "outputs": [], 
     "prompt_number": 308
    }, 
    {
     "cell_type": "code", 
     "collapsed": false, 
     "input": [
      "xcenAve=aveCen(xcen)", 
      "ycenAve=aveCen(np.delete(ycen,(2),axis=1))"
     ], 
     "language": "python", 
     "outputs": [], 
     "prompt_number": 323
    }, 
    {
     "cell_type": "code", 
     "collapsed": false, 
     "input": [
      "for i in range(5):", 
      "    pltY=xcen[:,i]", 
      "    pltY=pltY-min(abs(pltY[2:-2]))", 
      "    plt.plot(pltX[2:-2],pltY[2:-2])", 
      "    ", 
      "plt.plot(pltX[2:-2],xcenAve[2:-2]-min(xcenAve[2:-2]),linewidth=4)", 
      "#    plt.plot(pltX[2:-2],pltY2[2:-2],'--')", 
      "#   plt.plot(pltX,pltY)", 
      "#    plt.plot(pltX,pltY2,'--')"
     ], 
     "language": "python", 
     "outputs": [
      {
       "output_type": "pyout", 
       "prompt_number": 319, 
       "text": [
        "[<matplotlib.lines.Line2D at 0x20760190>]"
       ]
      }
     ], 
     "prompt_number": 319
    }, 
    {
     "cell_type": "code", 
     "collapsed": false, 
     "input": [
      "plt.title('Flexure TripleSpec')", 
      "plt.xlabel('HA')", 
      "plt.ylabel('x centroid offset')"
     ], 
     "language": "python", 
     "outputs": [
      {
       "output_type": "pyout", 
       "prompt_number": 311, 
       "text": [
        "<matplotlib.text.Text at 0x1e913830>"
       ]
      }
     ], 
     "prompt_number": 311
    }, 
    {
     "cell_type": "code", 
     "collapsed": false, 
     "input": [
      "plt.show()"
     ], 
     "language": "python", 
     "outputs": [], 
     "prompt_number": 312
    }, 
    {
     "cell_type": "code", 
     "collapsed": false, 
     "input": [
      "for i in range(5):", 
      "    if i != 2:", 
      "        pltY2=ycen[:,i]", 
      "        pltY2=pltY2-pltY2[2]", 
      "        plt.plot(pltX[2:-2],pltY2[2:-2])", 
      "", 
      "plt.plot(pltX[2:-2],ycenAve[2:-2]-ycenAve[2],linewidth=4)", 
      "plt.title('Flexure TripleSpec')", 
      "plt.xlabel('HA')", 
      "plt.ylabel('y centroid offset')", 
      "plt.show()"
     ], 
     "language": "python", 
     "outputs": [], 
     "prompt_number": 333
    }, 
    {
     "cell_type": "code", 
     "collapsed": false, 
     "input": [
      "p0 = [0.161, 9.60, 66.5, 5.33,6.89,0.626] # HK CSU zen fit (3/23/12)", 
      "data=np.array(zip(xcenAve,ycenAve))", 
      "angs=np.array(zip(decDeg,HADeg))", 
      "print data[2:-2,].shape,angs[2:-2,].shape"
     ], 
     "language": "python", 
     "outputs": [
      {
       "output_type": "stream", 
       "stream": "stdout", 
       "text": [
        "(26, 2) (26, 2)"
       ]
      }
     ], 
     "prompt_number": 335
    }, 
    {
     "cell_type": "code", 
     "collapsed": false, 
     "input": [
      "# here is the code to get the parameters", 
      "# p0 is the stating parameters", 
      "# data is the measured x,y offsets", 
      "# angs is the PA and elevation", 
      "# err is some weights ", 
      "#p1 = leastsq(res,p0,args=(data,angs,err**(-2)),full_output=1)", 
      "p1 = leastsq(res,p0,args=(data[2:-2,],angs[2:-2,]),full_output=1)"
     ], 
     "language": "python", 
     "outputs": [], 
     "prompt_number": 336
    }, 
    {
     "cell_type": "code", 
     "collapsed": false, 
     "input": [
      "print p0", 
      "print p1[0]"
     ], 
     "language": "python", 
     "outputs": [
      {
       "output_type": "stream", 
       "stream": "stdout", 
       "text": [
        "[0.161, 9.6, 66.5, 5.33, 6.89, 0.626]", 
        "[  1.30260370e-01   5.45261223e+00  -5.75458322e+02  -6.35216265e+01", 
        "   1.86444868e+00  -3.09299686e+00]"
       ]
      }
     ], 
     "prompt_number": 337
    }, 
    {
     "cell_type": "code", 
     "collapsed": true, 
     "input": [], 
     "language": "python", 
     "outputs": [], 
     "prompt_number": 226
    }, 
    {
     "cell_type": "code", 
     "collapsed": true, 
     "input": [], 
     "language": "python", 
     "outputs": []
    }
   ]
  }
 ]
}